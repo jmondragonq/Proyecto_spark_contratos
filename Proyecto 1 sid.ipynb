{
 "cells": [
  {
   "cell_type": "markdown",
   "metadata": {
    "application/vnd.databricks.v1+cell": {
     "cellMetadata": {},
     "inputWidgets": {},
     "nuid": "72d24f02-5a99-4f39-a1f8-cc03a7d16f6e",
     "showTitle": false,
     "tableResultSettingsMap": {},
     "title": ""
    }
   },
   "source": [
    "## Proyecto 1. Analisis de contratos y proyectos de inversión del gobierno de Colombia."
   ]
  },
  {
   "cell_type": "markdown",
   "metadata": {
    "application/vnd.databricks.v1+cell": {
     "cellMetadata": {},
     "inputWidgets": {},
     "nuid": "a240c517-cd62-4e8b-9a2a-24bac0967a4b",
     "showTitle": false,
     "tableResultSettingsMap": {},
     "title": ""
    }
   },
   "source": [
    "**Importar funciones de Spark**\n",
    "\n",
    "*Funciones F*: colección de funciones matemáticas y de procesamiento de datos para DataFrames.\n",
    "\n",
    "*Funciones Window*: Permite hacer cáculos sobre un conjunto de filas sin colapsar el DataFrame."
   ]
  },
  {
   "cell_type": "code",
   "execution_count": 0,
   "metadata": {
    "application/vnd.databricks.v1+cell": {
     "cellMetadata": {
      "byteLimit": 2048000,
      "rowLimit": 10000
     },
     "inputWidgets": {},
     "nuid": "346085f8-5f58-4f5d-a829-bffe83cb7271",
     "showTitle": false,
     "tableResultSettingsMap": {},
     "title": ""
    }
   },
   "outputs": [],
   "source": [
    "from pyspark.sql import functions as F\n",
    "from pyspark.sql import Window"
   ]
  },
  {
   "cell_type": "markdown",
   "metadata": {
    "application/vnd.databricks.v1+cell": {
     "cellMetadata": {},
     "inputWidgets": {},
     "nuid": "cd205d0d-00bf-4857-bf45-4a580d2b364d",
     "showTitle": false,
     "tableResultSettingsMap": {},
     "title": ""
    }
   },
   "source": [
    "**Ejercicios**"
   ]
  },
  {
   "cell_type": "code",
   "execution_count": 0,
   "metadata": {
    "application/vnd.databricks.v1+cell": {
     "cellMetadata": {
      "byteLimit": 2048000,
      "rowLimit": 10000
     },
     "inputWidgets": {},
     "nuid": "3d2887e3-2a76-40bb-b0fe-57cb671475bf",
     "showTitle": false,
     "tableResultSettingsMap": {},
     "title": ""
    }
   },
   "outputs": [],
   "source": [
    "# ========================================\n",
    "# EJERCICIO 1: LECTURA OPTIMIZADA DE DATOS\n",
    "# ========================================\n",
    "\n",
    "# Rutas de los datasets\n",
    "secop_path = \"wasbs://sid@uniandesyjt.blob.core.windows.net/secop\"\n",
    "bpin_path = \"wasbs://sid@uniandesyjt.blob.core.windows.net/bpin\"\n",
    "\n",
    "# LECTURA OPTIMIZADA DE SECOP (Contratos)\n",
    "df_secop = spark.read \\\n",
    "    .format(\"json\") \\\n",
    "    .option(\"multiline\", \"true\") \\\n",
    "    .option(\"samplingRatio\", \"0.1\") \\\n",
    "    .load(secop_path)\n",
    "\n",
    "# LECTURA OPTIMIZADA DE BPIN (Proyectos)\n",
    "df_bpin = spark.read \\\n",
    "    .format(\"csv\") \\\n",
    "    .option(\"header\", \"true\") \\\n",
    "    .option(\"inferSchema\", \"true\") \\\n",
    "    .load(bpin_path)"
   ]
  },
  {
   "cell_type": "markdown",
   "metadata": {
    "application/vnd.databricks.v1+cell": {
     "cellMetadata": {},
     "inputWidgets": {},
     "nuid": "7236fee3-c081-4809-bed8-7be5fa8dd2e2",
     "showTitle": false,
     "tableResultSettingsMap": {},
     "title": ""
    }
   },
   "source": [
    "**Justificación de cada función utilizada en la lectura de información de SECOP**\n",
    "\n",
    "format(\"json\"): Los archivos de contratos están en formato JSON comprimido (.json.gz)\n",
    "\n",
    "multiline=true: Los contratos tienen estructura compleja que puede ocupar múltiples líneas. Sin esto, Spark fallaría al leer contratos con descripciones largas\n",
    "\n",
    "samplingRatio=0.1: Analiza solo 10% de los archivos para inferir la estructura."
   ]
  },
  {
   "cell_type": "markdown",
   "metadata": {
    "application/vnd.databricks.v1+cell": {
     "cellMetadata": {},
     "inputWidgets": {},
     "nuid": "6281ed11-2783-4076-93fd-33c936ba146a",
     "showTitle": false,
     "tableResultSettingsMap": {},
     "title": ""
    }
   },
   "source": [
    "**Justificación de cada función utilizada en la lectura de información de SECOP**\n",
    "\n",
    "format(\"csv\"): Los datos de proyectos están en formato CSV (.csv.gz)\n",
    "\n",
    "header=true: La primera fila contiene nombres de columnas (Bpin, NombreProyecto, etc.), no datos\n",
    "\n",
    "inferSchema=true: Detecta automáticamente los tipos de datos (números vs texto). Sin esto, todas las columnas se leen como texto y las operaciones matemáticas fallarían"
   ]
  },
  {
   "cell_type": "code",
   "execution_count": 0,
   "metadata": {
    "application/vnd.databricks.v1+cell": {
     "cellMetadata": {
      "byteLimit": 2048000,
      "rowLimit": 10000
     },
     "inputWidgets": {},
     "nuid": "cd8151b1-0687-48de-b9a2-1733b9e15123",
     "showTitle": false,
     "tableResultSettingsMap": {},
     "title": ""
    }
   },
   "outputs": [
    {
     "output_type": "stream",
     "name": "stdout",
     "output_type": "stream",
     "text": [
      "\n==================================================\nEJERCICIO 2: TOP 10 PROVEEDORES 2024\n==================================================\n 1. MARIA SORELY GRISALES / CREACIONES BJ                $2,115,156,861,243\n 2. UNIVERSIDAD DE ANTIOQUIA                             $1,856,417,293,206\n 3. INSTITUTO PARA EL DESARROLLO DE ANTIOQUIA IDEA       $1,703,797,668,980\n 4. FINANCIERA DE DESARROLLO TERRITORIAL S.A.            $1,541,604,758,133\n 5. INSTITUTO TECNOLOGICO METROPOLITANO                  $1,152,177,220,033\n 6. BANCOLOMBIA                                          $1,022,475,569,903\n 7. SOCIEDAD DE ACTIVOS ESPECIALES SAS                   $1,000,549,529,167\n 8. ESU                                                    $870,387,131,033\n 9. correagro                                              $841,630,245,974\n10. UNIDAD PARA LAS VÍCTIMAS - FONDO PARA LA REPARACIÓ     $710,000,000,000\n"
     ]
    }
   ],
   "source": [
    "# ========================================\n",
    "# EJERCICIO 2: TOP 10 PROVEEDORES 2024 \n",
    "# ========================================\n",
    "\n",
    "print(\"\\n\" + \"=\" * 50)\n",
    "print(\"EJERCICIO 2: TOP 10 PROVEEDORES 2024\")\n",
    "print(\"=\" * 50)\n",
    "\n",
    "# Filtrar contratos de 2024 y obtener top proveedores por valor\n",
    "top_proveedores_2024 = df_secop \\\n",
    "    .filter(F.col(\"anno_firma\") == 2024) \\\n",
    "    .groupBy(\"proveedor_adjudicado\") \\\n",
    "    .agg(F.sum(\"valor_del_contrato\").alias(\"valor_total_contratos\")) \\\n",
    "    .orderBy(F.desc(\"valor_total_contratos\")) \\\n",
    "    .limit(10)\n",
    "\n",
    "# Convertir a formato más legible para reporte\n",
    "resultado_ej2 = top_proveedores_2024.collect()\n",
    "for i, row in enumerate(resultado_ej2, 1):\n",
    "    valor_formateado = f\"${row['valor_total_contratos']:,.0f}\"\n",
    "    print(f\"{i:2}. {row['proveedor_adjudicado'][:50]:<50} {valor_formateado:>20}\")\n"
   ]
  },
  {
   "cell_type": "code",
   "execution_count": 0,
   "metadata": {
    "application/vnd.databricks.v1+cell": {
     "cellMetadata": {
      "byteLimit": 2048000,
      "rowLimit": 10000
     },
     "inputWidgets": {},
     "nuid": "f1b1d885-b374-41b8-974b-bb5277c90b3b",
     "showTitle": false,
     "tableResultSettingsMap": {},
     "title": ""
    }
   },
   "outputs": [
    {
     "output_type": "stream",
     "name": "stdout",
     "output_type": "stream",
     "text": [
      "\n==================================================\nEJERCICIO 3: PROYECTOS CON MAYOR VALOR SIN PAGAR\n==================================================\n 1. BPIN: 2022052090029\n    Mejoramiento De Procesos Agropecuarios En El Municipio De  Concordia\n    Valor sin pagar: $186,666,674,666,667\n\n 2. BPIN: 202400000000008\n    Construcción De Los Proyectos Sistemas Integrados De Transporte Masivo Sitm Dist...\n    Valor sin pagar: $92,842,095,357,321\n\n 3. BPIN: 202300000000455\n    Implementación De La Política De Gratuidad Y Estrategias Para La Financiación De...\n    Valor sin pagar: $73,841,716,026,232\n\n 4. BPIN: 2018011000720\n    Apoyo A Proyectos De Inversión A Nivel  Nacional\n    Valor sin pagar: $36,718,368,795,103\n\n 5. BPIN: 202300000000204\n    Implementación De Transferencias Monetarias Para Población En Situación De Pobre...\n    Valor sin pagar: $28,908,051,313,453\n\n 6. BPIN: 202500000002103\n    Fortalecimiento Al Proceso De Aseguramiento Y Atenciòn De Pqrs Prestación De Ser...\n    Valor sin pagar: $28,716,343,392,272\n\n 7. BPIN: 2017733490012\n    Fortalecimiento De Salud En Aseguramiento Del Municipio De Honda   Tolima\n    Valor sin pagar: $25,481,922,793,690\n\n 8. BPIN: 202300000000429\n    Fortalecimiento De Capacidades Y Disposición De Condiciones Y Oportunidades Que ...\n    Valor sin pagar: $22,638,643,316,097\n\n 9. BPIN: 2022011000106\n    Diseno Construccion Y Puesta En Operacion De La Linea 2 Del Metro De Bogota Incl...\n    Valor sin pagar: $22,160,406,144,781\n\n10. BPIN: 202300000000469\n    Construcción  Mejoramiento Rehabilitación Y Mantenimiento De La Red Vial Primari...\n    Valor sin pagar: $21,191,163,179,752\n\n"
     ]
    }
   ],
   "source": [
    "# ========================================\n",
    "# EJERCICIO 3: PROYECTOS CON MAYOR VALOR SIN PAGAR\n",
    "# ========================================\n",
    "\n",
    "print(\"\\n\" + \"=\" * 50)\n",
    "print(\"EJERCICIO 3: PROYECTOS CON MAYOR VALOR SIN PAGAR\")\n",
    "print(\"=\" * 50)\n",
    "\n",
    "# Unir SECOP con BPIN usando la columna común (bpin)\n",
    "# Calcular valor sin pagar = ValorTotalProyecto - ValorPagoProyecto\n",
    "proyectos_deuda = df_bpin \\\n",
    "    .withColumn(\"valor_sin_pagar\", \n",
    "                F.col(\"ValorTotalProyecto\") - F.col(\"ValorPagoProyecto\")) \\\n",
    "    .filter(F.col(\"valor_sin_pagar\") > 0) \\\n",
    "    .orderBy(F.desc(\"valor_sin_pagar\")) \\\n",
    "    .limit(10)\n",
    "\n",
    "# Convertir a formato más legible para reporte\n",
    "resultado_ej3 = proyectos_deuda.collect()\n",
    "for i, row in enumerate(resultado_ej3, 1):\n",
    "    valor_formateado = f\"${row['valor_sin_pagar']:,.0f}\"\n",
    "    bpin_code = row['Bpin']\n",
    "    proyecto_nombre = row['NombreProyecto'][:80] + \"...\" if len(row['NombreProyecto']) > 80 else row['NombreProyecto']\n",
    "    print(f\"{i:2}. BPIN: {bpin_code}\")\n",
    "    print(f\"    {proyecto_nombre}\")\n",
    "    print(f\"    Valor sin pagar: {valor_formateado}\")\n",
    "    print()"
   ]
  },
  {
   "cell_type": "code",
   "execution_count": 0,
   "metadata": {
    "application/vnd.databricks.v1+cell": {
     "cellMetadata": {
      "byteLimit": 2048000,
      "rowLimit": 10000
     },
     "inputWidgets": {},
     "nuid": "23e84e85-e539-473b-bacd-5c62249ec5ff",
     "showTitle": false,
     "tableResultSettingsMap": {},
     "title": ""
    }
   },
   "outputs": [
    {
     "output_type": "stream",
     "name": "stdout",
     "output_type": "stream",
     "text": [
      "\n==================================================\nEJERCICIO 4: RANKING ANUAL DE PROVEEDORES\n==================================================\n\n\uD83D\uDDD3️  AÑO 2015:\n============================================================\n   1. UNIÓN TEMPORAL IDOM-SILO                                   $563,760,000\n   2. CORPORACIÓN ECOVERSA                                       $520,000,000\n   3. UT MAPFRE - PREVISORA                                      $145,120,101\n   4. GRUPO SPIRA SAS                                            $119,828,000\n   5. AXA COLPATRIA SEGUROS S.A                                   $98,600,000\n\n\uD83D\uDDD3️  AÑO 2016:\n============================================================\n   1. KAPITAL                                                $151,889,229,120\n   2. John Alexander Ardila Evan                              $27,000,000,000\n   3. LUZ ESTELA ROJAS QUINTERO                               $18,000,000,000\n   4. UNION TEMPORAL GENERALI COLOMBIA SEGUROS GENERALES...      $17,958,407,612\n   5. AGUILA DE ORO DE COLOMBIA LTDA                          $14,031,229,446\n\n\uD83D\uDDD3️  AÑO 2017:\n============================================================\n   1. FESU                                                   $438,187,721,616\n   2. COLFONDOS SA                                           $311,718,748,000\n   3. ESTACION DE SERVICIO CARRERA 50 SAS                    $211,108,041,588\n   4. CAJA DE COMPENSACION FAMILIAR COMPENSAR                $193,694,066,424\n   5. ENTerritorio S.A                                       $159,258,068,054\n\n\uD83D\uDDD3️  AÑO 2018:\n============================================================\n   1. ALAN ARCHBOLD MARTINEZ                               $4,330,119,839,236\n   2. SOCIEDAD TEQUENDAMA S.A.                             $1,907,805,561,976\n   3. LIMPIEZA METROPOLITANA S A ESP                       $1,544,233,498,292\n   4. Promoambiental Distrito S.A.S. ESP                   $1,101,109,931,961\n   5. UNION TEMPORAL MEDIPOL 16                              $988,378,423,013\n\n\uD83D\uDDD3️  AÑO 2019:\n============================================================\n   1. FRANCISCO ANTONIO ALVARADO BESTENE                   $9,645,115,773,936\n   2. MARTHA LEON SANCHEZ                                  $2,715,992,374,000\n   3. INSTITUTO COLOMBIANO DE CREDITO EDUCATIVO Y ESTUDI...   $1,737,035,145,293\n   4. Colombia Telecomunicaciones S.A. ESP BIC             $1,114,488,772,821\n   5. MAPFRE SEGUROS GENERALES DE COLOMBIA S.A.              $484,970,594,047\n\n\uD83D\uDDD3️  AÑO 2020:\n============================================================\n   1. JOHN ESTIVEN MARIN RODRIGUEZ                         $4,949,784,128,152\n   2. ALBA MILENA FAJARDO ISAZA                            $4,949,777,903,187\n   3. ESE HOSPITAL UNIVERSITARIO JULIO MENDEZ BARRENECHE   $1,574,884,067,000\n   4. FINANCIERA DE DESARROLLO TERRITORIAL S.A.            $1,163,497,454,841\n   5. CONSORCIO EUCARÍSTICO CARRERA 68                     $1,162,759,703,824\n\n\uD83D\uDDD3️  AÑO 2021:\n============================================================\n   1. CUERPO DE BOMBEROS VOLUNTARIOS DE ITAGUI             $4,092,141,470,866\n   2. AHMSA                                                $3,482,943,972,000\n   3. ENTerritorio S.A                                     $3,157,488,993,927\n   4. FINANCIERA DE DESARROLLO TERRITORIAL S.A.            $1,947,916,672,054\n   5. UNION TEMPORAL DISTRIBUCION PROCESOS ELECTORALES 2...   $1,799,707,249,746\n\n\uD83D\uDDD3️  AÑO 2022:\n============================================================\n   1. Corporacion de Ciencia y Tecnologia para el Desarr...   $2,363,616,887,571\n   2. INGREDION COLOMBIA SA                                $1,154,999,740,390\n   3. UNIVERSIDAD DE ANTIOQUIA                             $1,130,253,375,440\n   4. UT ETB NET COLOMBIA CONECTADA                        $1,072,552,301,475\n   5. FINANCIERA DE DESARROLLO TERRITORIAL S.A.              $905,428,602,305\n\n\uD83D\uDDD3️  AÑO 2023:\n============================================================\n   1. FINANCIERA DE DESARROLLO TERRITORIAL S.A.            $3,104,985,006,258\n   2. UNIVERSIDAD DE ANTIOQUIA                             $1,615,818,359,492\n   3. FONDO MIXTO PARA LA PROMOCION DE LA CULTURA Y LAS ...   $1,236,000,209,976\n   4. AGENCIA LOGISTICA DE LAS FUERZAS MILITARES           $1,170,044,220,037\n   5. PROGRAMA DE LAS NACIONES UNIDAS PARA EL DESARROLLO...   $1,150,227,507,353\n\n\uD83D\uDDD3️  AÑO 2024:\n============================================================\n   1. MARIA SORELY GRISALES / CREACIONES BJ                $2,115,156,861,243\n   2. UNIVERSIDAD DE ANTIOQUIA                             $1,856,417,293,206\n   3. INSTITUTO PARA EL DESARROLLO DE ANTIOQUIA IDEA       $1,703,797,668,980\n   4. FINANCIERA DE DESARROLLO TERRITORIAL S.A.            $1,541,604,758,133\n   5. INSTITUTO TECNOLOGICO METROPOLITANO                  $1,152,177,220,033\n\n\uD83D\uDDD3️  AÑO 2025:\n============================================================\n   1. Zona Franca Barranquilla                             $2,846,224,257,835\n   2. Yesid Avila Torres                                   $2,385,617,800,000\n   3. ESU                                                  $2,200,716,981,700\n   4. UNION TEMPORAL INTEGRACION LOGISTICA ELECTORAL 202...   $2,124,806,917,129\n   5. INSTITUTO PARA EL DESARROLLO DE ANTIOQUIA IDEA       $1,413,834,935,935\n\n✓ Ejercicio 4 completado: Ranking anual de proveedores calculado\n"
     ]
    }
   ],
   "source": [
    "# ========================================\n",
    "# EJERCICIO 4: RANKING ANUAL DE PROVEEDORES\n",
    "# ========================================\n",
    "\n",
    "print(\"\\n\" + \"=\" * 50)\n",
    "print(\"EJERCICIO 4: RANKING ANUAL DE PROVEEDORES\")\n",
    "print(\"=\" * 50)\n",
    "\n",
    "# Usar funciones de ventana para ranking anual\n",
    "# 1. Calcular valor total por proveedor por año\n",
    "# 2. Asignar ranking dentro de cada año\n",
    "# 3. Filtrar solo los top 5 de cada año\n",
    "\n",
    "from pyspark.sql.window import Window\n",
    "\n",
    "# Definir ventana para particionar por año y ordenar por valor total\n",
    "ventana_anual = Window.partitionBy(\"anno_firma\").orderBy(F.desc(\"valor_total\"))\n",
    "\n",
    "ranking_anual = df_secop \\\n",
    "    .groupBy(\"anno_firma\", \"proveedor_adjudicado\") \\\n",
    "    .agg(F.sum(\"valor_del_contrato\").alias(\"valor_total\")) \\\n",
    "    .withColumn(\"ranking\", F.row_number().over(ventana_anual)) \\\n",
    "    .filter(F.col(\"ranking\") <= 5) \\\n",
    "    .orderBy(\"anno_firma\", \"ranking\")\n",
    "\n",
    "# Convertir a formato más legible para reporte\n",
    "resultado_ej4 = ranking_anual.collect()\n",
    "\n",
    "año_actual = None\n",
    "for row in resultado_ej4:\n",
    "    if row['anno_firma'] != año_actual:\n",
    "        año_actual = row['anno_firma']\n",
    "        print(f\"\\n\uD83D\uDDD3️  AÑO {año_actual}:\")\n",
    "        print(\"=\" * 60)\n",
    "    \n",
    "    valor_formateado = f\"${row['valor_total']:,.0f}\"\n",
    "    proveedor = row['proveedor_adjudicado'][:50] + \"...\" if len(row['proveedor_adjudicado']) > 50 else row['proveedor_adjudicado']\n",
    "    print(f\"   {row['ranking']}. {proveedor:<50} {valor_formateado:>20}\")\n",
    "\n",
    "print(\"\\n✓ Ejercicio 4 completado: Ranking anual de proveedores calculado\")"
   ]
  },
  {
   "cell_type": "code",
   "execution_count": 0,
   "metadata": {
    "application/vnd.databricks.v1+cell": {
     "cellMetadata": {
      "byteLimit": 2048000,
      "rowLimit": 10000
     },
     "inputWidgets": {},
     "nuid": "c02e3774-c8e7-4dd1-a0fa-0310978f879d",
     "showTitle": false,
     "tableResultSettingsMap": {},
     "title": ""
    }
   },
   "outputs": [
    {
     "output_type": "stream",
     "name": "stdout",
     "output_type": "stream",
     "text": [
      "\n==================================================\nEJERCICIO 5: PROVEEDORES QUE FIRMARON EN 2024 PERO NO EN 2020\n==================================================\nNúmero de proveedores que firmaron en 2024 pero NO en 2020: 390664\n+-----------------------------------------------------------------------------+\n|proveedor_adjudicado                                                         |\n+-----------------------------------------------------------------------------+\n|SUGAR LEE DILBERT HUFFINGTON                                                 |\n|angelica maria rios londoño                                                  |\n|Leonor Bedoya Valencia                                                       |\n|SANTIAGO VALLEJO                                                             |\n|DAMARYS MANTILLA PORRAS                                                      |\n|Maritza Yamile Castaño Rincón                                                |\n|Ana Mercedes Contreras Beltran                                               |\n|GASTROCENTERCentro de Gastroenterología y Endoscopia Digestiva avanzada S.A.S|\n|JORGE MARIO RINCON URREA                                                     |\n|Joan Tasama Novoa                                                            |\n|Carlos David Noriega Lara                                                    |\n|ANDERSON DUQUE MORALES                                                       |\n|LINA MARCELA PENAGOS HURTADO                                                 |\n|CAMILO ARMANDO CORDOBA MARTINEZ                                              |\n|ERVYN FELIPE BUELVAS ANAYA                                                   |\n|Alexandra Flórez Rodríguez                                                   |\n|NUTIBARA DEL RIO SAS                                                         |\n|YISE CHICO SALAZAR                                                           |\n|Monica Estefania Rivera Mora                                                 |\n|JENIFER ISABEL RODRIGUEZ RUEDA                                               |\n+-----------------------------------------------------------------------------+\nonly showing top 20 rows\n"
     ]
    }
   ],
   "source": [
    "# ========================================\n",
    "# EJERCICIO 5: PROVEEDORES NUEVOS EN 2024\n",
    "# ========================================\n",
    "\n",
    "print(\"\\n\" + \"=\"*50)\n",
    "print(\"EJERCICIO 5: PROVEEDORES QUE FIRMARON EN 2024 PERO NO EN 2020\")\n",
    "print(\"=\"*50)\n",
    "\n",
    "# Proveedores que firmaron en 2024\n",
    "proveedores_2024 = df_secop \\\n",
    "    .filter(F.col(\"anno_firma\") == 2024) \\\n",
    "    .select(\"proveedor_adjudicado\").distinct()\n",
    "\n",
    "# Proveedores que firmaron en 2020\n",
    "proveedores_2020 = df_secop \\\n",
    "    .filter(F.col(\"anno_firma\") == 2020) \\\n",
    "    .select(\"proveedor_adjudicado\").distinct()\n",
    "\n",
    "# Proveedores nuevos: están en 2024 pero NO en 2020\n",
    "proveedores_nuevos = proveedores_2024 \\\n",
    "    .join(proveedores_2020, \"proveedor_adjudicado\", \"left_anti\")\n",
    "\n",
    "num_proveedores_nuevos = proveedores_nuevos.count()\n",
    "print(f\"Número de proveedores que firmaron en 2024 pero NO en 2020: {num_proveedores_nuevos}\")\n",
    "\n",
    "proveedores_nuevos.show(20, truncate=False)"
   ]
  },
  {
   "cell_type": "code",
   "execution_count": 0,
   "metadata": {
    "application/vnd.databricks.v1+cell": {
     "cellMetadata": {
      "byteLimit": 2048000,
      "rowLimit": 10000
     },
     "inputWidgets": {},
     "nuid": "848dc194-5593-43be-9c59-aff474e062cb",
     "showTitle": false,
     "tableResultSettingsMap": {},
     "title": ""
    }
   },
   "outputs": [
    {
     "output_type": "stream",
     "name": "stdout",
     "output_type": "stream",
     "text": [
      "\n==================================================\nEJERCICIO 6: ANÁLISIS DE CONTRATOS DE PRESTACIÓN DE SERVICIOS\n==================================================\nESTADÍSTICAS DE CONTRATOS DE PRESTACIÓN DE SERVICIOS:\n+---------------+-------------------+------------------+\n|total_contratos|     valor_promedio|mediana_aproximada|\n+---------------+-------------------+------------------+\n|         415946|4.789700262915619E7|          19000949|\n+---------------+-------------------+------------------+\n\n"
     ]
    }
   ],
   "source": [
    "# ========================================\n",
    "# EJERCICIO 6: CONTRATOS DE PRESTACIÓN DE SERVICIOS\n",
    "# ========================================\n",
    "\n",
    "print(\"\\n\" + \"=\"*50)\n",
    "print(\"EJERCICIO 6: ANÁLISIS DE CONTRATOS DE PRESTACIÓN DE SERVICIOS\")\n",
    "print(\"=\"*50)\n",
    "\n",
    "# Filtrar contratos que contengan \"Prestación de servicios\"\n",
    "contratos_prestacion = df_secop \\\n",
    "    .filter(F.col(\"objeto_del_contrato\").contains(\"Prestación de servicios\"))\n",
    "\n",
    "# Calcular promedio y mediana aproximada\n",
    "estadisticas_prestacion = contratos_prestacion.agg(\n",
    "    F.count(\"valor_del_contrato\").alias(\"total_contratos\"),\n",
    "    F.avg(\"valor_del_contrato\").alias(\"valor_promedio\"),\n",
    "    F.expr(\"approx_percentile(valor_del_contrato, 0.5)\").alias(\"mediana_aproximada\")\n",
    ")\n",
    "\n",
    "print(\"ESTADÍSTICAS DE CONTRATOS DE PRESTACIÓN DE SERVICIOS:\")\n",
    "estadisticas_prestacion.show()\n"
   ]
  },
  {
   "cell_type": "code",
   "execution_count": 0,
   "metadata": {
    "application/vnd.databricks.v1+cell": {
     "cellMetadata": {
      "byteLimit": 2048000,
      "rowLimit": 10000
     },
     "inputWidgets": {},
     "nuid": "d9c0ce83-b992-4139-be96-39ace9f8af74",
     "showTitle": false,
     "tableResultSettingsMap": {},
     "title": ""
    }
   },
   "outputs": [
    {
     "output_type": "stream",
     "name": "stdout",
     "output_type": "stream",
     "text": [
      "\n==================================================\nEJERCICIO 7: AÑO CON MÁS PROVEEDORES ÚNICOS\n==================================================\nPROVEEDORES ÚNICOS POR AÑO (APROXIMADO):\n+----------+---------------------+\n|anno_firma|num_proveedores_aprox|\n+----------+---------------------+\n|      2024|               558936|\n|      2025|               510578|\n|      2023|               505760|\n|      2022|               419046|\n|      2021|               361515|\n|      2020|               240723|\n|      2019|               110939|\n|      2018|                98952|\n|      2017|                17044|\n|      2016|                 1212|\n|      2015|                   10|\n+----------+---------------------+\n\n"
     ]
    }
   ],
   "source": [
    "# ========================================\n",
    "# EJERCICIO 7: AÑO CON MÁS PROVEEDORES\n",
    "# ========================================\n",
    "\n",
    "print(\"\\n\" + \"=\"*50)\n",
    "print(\"EJERCICIO 7: AÑO CON MÁS PROVEEDORES ÚNICOS\")\n",
    "print(\"=\"*50)\n",
    "\n",
    "# Usar approx_count_distinct para optimizar\n",
    "proveedores_por_año = df_secop \\\n",
    "    .groupBy(\"anno_firma\") \\\n",
    "    .agg(F.approx_count_distinct(\"proveedor_adjudicado\").alias(\"num_proveedores_aprox\")) \\\n",
    "    .orderBy(F.desc(\"num_proveedores_aprox\"))\n",
    "\n",
    "print(\"PROVEEDORES ÚNICOS POR AÑO (APROXIMADO):\")\n",
    "proveedores_por_año.show()"
   ]
  },
  {
   "cell_type": "code",
   "execution_count": 0,
   "metadata": {
    "application/vnd.databricks.v1+cell": {
     "cellMetadata": {
      "byteLimit": 2048000,
      "rowLimit": 10000
     },
     "inputWidgets": {},
     "nuid": "ab9b42c0-aa56-4354-9343-ba7fd78574bb",
     "showTitle": false,
     "tableResultSettingsMap": {},
     "title": ""
    }
   },
   "outputs": [
    {
     "output_type": "stream",
     "name": "stdout",
     "output_type": "stream",
     "text": [
      "\n==================================================\nEJERCICIO 8: ANÁLISIS DE TEXTO - PALABRAS EN OBJETOS\n==================================================\nTOP 20 PALABRAS MÁS FRECUENTES EN OBJETOS DE CONTRATOS:\n+---------------+-------+\n|palabra        |count  |\n+---------------+-------+\n|servicios      |3913696|\n|para           |3736385|\n|prestar        |1804825|\n|profesionales  |1764496|\n|apoyo          |1723151|\n|gestión        |1442435|\n|prestación     |1416687|\n|como           |1197566|\n|actividades    |947587 |\n|desarrollo     |829370 |\n|municipio      |768517 |\n|salud          |651030 |\n|marco          |568999 |\n|proyecto       |550220 |\n|procesos       |538345 |\n|apoyar         |504502 |\n|fortalecimiento|438439 |\n|departamento   |435861 |\n|gestion        |420018 |\n|secretaria     |405750 |\n+---------------+-------+\n\n\n==================================================\n"
     ]
    }
   ],
   "source": [
    "# ========================================\n",
    "# EJERCICIO 8: ANÁLISIS DE TEXTO\n",
    "# ========================================\n",
    "\n",
    "print(\"\\n\" + \"=\"*50)\n",
    "print(\"EJERCICIO 8: ANÁLISIS DE TEXTO - PALABRAS EN OBJETOS\")\n",
    "print(\"=\"*50)\n",
    "\n",
    "# Análisis básico de texto en objeto_del_contrato\n",
    "palabras_frecuentes = df_secop \\\n",
    "    .select(F.explode(F.split(F.lower(F.col(\"objeto_del_contrato\")), \" \")).alias(\"palabra\")) \\\n",
    "    .filter(F.length(F.col(\"palabra\")) > 3) \\\n",
    "    .groupBy(\"palabra\") \\\n",
    "    .count() \\\n",
    "    .orderBy(F.desc(\"count\")) \\\n",
    "    .limit(20)\n",
    "\n",
    "print(\"TOP 20 PALABRAS MÁS FRECUENTES EN OBJETOS DE CONTRATOS:\")\n",
    "palabras_frecuentes.show(truncate=False)\n",
    "\n",
    "print(\"\\n\" + \"=\"*50)"
   ]
  }
 ],
 "metadata": {
  "application/vnd.databricks.v1+notebook": {
   "computePreferences": null,
   "dashboards": [],
   "environmentMetadata": {
    "base_environment": "",
    "environment_version": "3"
   },
   "inputWidgetPreferences": null,
   "language": "python",
   "notebookMetadata": {
    "pythonIndentUnit": 4
   },
   "notebookName": "Taller 1 sid",
   "widgets": {}
  },
  "language_info": {
   "name": "python"
  }
 },
 "nbformat": 4,
 "nbformat_minor": 0
}
